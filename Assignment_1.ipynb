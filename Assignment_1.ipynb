{
 "cells": [
  {
   "cell_type": "code",
   "execution_count": 1,
   "id": "01c454fc",
   "metadata": {},
   "outputs": [],
   "source": [
    "# Given a list with first names and another list with last names. Combine the lists such that the Full name is present.\n",
    "\n",
    "first_names = ['Micheal','Jim','Pam','Dwight','Stanley']\n",
    "last_names = ['Scott','Halpert','Beasely','Hudson']\n",
    "\n",
    "full_names = [first + \" \" + last for first, last in zip(first_names, last_names)]"
   ]
  },
  {
   "cell_type": "code",
   "execution_count": 2,
   "id": "7f973071",
   "metadata": {},
   "outputs": [
    {
     "data": {
      "text/plain": [
       "['Micheal Scott', 'Jim Halpert', 'Pam Beasely', 'Dwight Hudson']"
      ]
     },
     "execution_count": 2,
     "metadata": {},
     "output_type": "execute_result"
    }
   ],
   "source": [
    "full_names"
   ]
  }
 ],
 "metadata": {
  "kernelspec": {
   "display_name": "Python 3 (ipykernel)",
   "language": "python",
   "name": "python3"
  },
  "language_info": {
   "codemirror_mode": {
    "name": "ipython",
    "version": 3
   },
   "file_extension": ".py",
   "mimetype": "text/x-python",
   "name": "python",
   "nbconvert_exporter": "python",
   "pygments_lexer": "ipython3",
   "version": "3.8.8"
  }
 },
 "nbformat": 4,
 "nbformat_minor": 5
}
