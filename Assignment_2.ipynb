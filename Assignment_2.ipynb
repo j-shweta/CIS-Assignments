{
 "cells": [
  {
   "cell_type": "code",
   "execution_count": 1,
   "id": "372b993b",
   "metadata": {},
   "outputs": [],
   "source": [
    "def dates(d1,q):\n",
    "    dict_dates = {}\n",
    "    present_year = d1[0:4]\n",
    "    present_month = d1[4:]\n",
    "    if present_month=='01':\n",
    "        previous_month = '12'\n",
    "        present_year = str(int(present_year)-1)\n",
    "    else:\n",
    "        previous_month = str(int(present_month) - 1)\n",
    "        if len(previous_month)==1:\n",
    "            previous_month = '0' + previous_month\n",
    "    dict_dates['prev_month'] = present_year + previous_month\n",
    "    \n",
    "    present_year = d1[0:4]\n",
    "    qtr = q\n",
    "    dict_dates['current_qtr'] = qtr +'_'+present_year\n",
    "    \n",
    "    if qtr=='Q1':\n",
    "        qtr_1 = 'Q4'\n",
    "        year = str(int(present_year)-1)\n",
    "    else:\n",
    "        qtr_1 = 'Q'+str(int(qtr[1])-1)\n",
    "        year = present_year\n",
    "    dict_dates['previous_qtr'] = qtr_1 +'_'+year  \n",
    "    \n",
    "    present_year = d1[0:4]\n",
    "    next_year = str(int(present_year)+1)\n",
    "    present_month = d1[4:]\n",
    "    next_month = str((int(present_month)+11)%12)\n",
    "    if len(next_month)==1:\n",
    "        next_month = '0'+next_month\n",
    "    \n",
    "    dict_dates['future_month'] = next_year + next_month  \n",
    "    \n",
    "    return dict_dates\n",
    "        "
   ]
  },
  {
   "cell_type": "code",
   "execution_count": 2,
   "id": "f2983387",
   "metadata": {},
   "outputs": [
    {
     "name": "stdout",
     "output_type": "stream",
     "text": [
      "{'prev_month': '202102', 'current_qtr': 'Q1_2021', 'previous_qtr': 'Q4_2020', 'future_month': '202202'}\n"
     ]
    }
   ],
   "source": [
    "print(dates('202103','Q1'))"
   ]
  }
 ],
 "metadata": {
  "kernelspec": {
   "display_name": "Python 3 (ipykernel)",
   "language": "python",
   "name": "python3"
  },
  "language_info": {
   "codemirror_mode": {
    "name": "ipython",
    "version": 3
   },
   "file_extension": ".py",
   "mimetype": "text/x-python",
   "name": "python",
   "nbconvert_exporter": "python",
   "pygments_lexer": "ipython3",
   "version": "3.8.8"
  }
 },
 "nbformat": 4,
 "nbformat_minor": 5
}
